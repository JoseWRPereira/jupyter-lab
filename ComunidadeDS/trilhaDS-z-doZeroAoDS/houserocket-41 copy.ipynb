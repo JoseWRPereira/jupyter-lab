{
 "cells": [
  {
   "attachments": {},
   "cell_type": "markdown",
   "metadata": {},
   "source": [
    "# Curso de Python do Zero ao DS\n",
    "## Profº Meigarom\n",
    "### Canal: Seja um Data Scientist\n"
   ]
  },
  {
   "attachments": {},
   "cell_type": "markdown",
   "metadata": {},
   "source": [
    "## Agenda\n",
    "\n",
    "* 1.0 - O Problema do negócio\n",
    "  * 1.1 - A Empresa: House Rocket\n",
    "  * 1.2 - As perguntas do contratante (CEO)\n",
    "* 2.0 - Planejamento da solução\n",
    "  * 2.1 - Planejamento do produto final\n",
    "  * 2.2 - Planejamento das ferramentas\n",
    "  * 2.3 - Planejamento do processo\n",
    "* 3.0 - Solução\n",
    "* 4.0 - Entrega"
   ]
  },
  {
   "attachments": {},
   "cell_type": "markdown",
   "metadata": {},
   "source": [
    "# 1.0 - O Problema do negócio\n",
    "\n",
    "## 1.1 - A Empresa: House Rocket\n",
    "* O que faz? \n",
    "    * Plataforma de compras e vendas de imóveis.\n",
    "* Qual é o problema? \n",
    "    * O CEO da empresa gostaria de maximizar os lucros encontrando bons negócios.\n",
    "* Qual é a principal estratégia?\n",
    "    * Fontes externas para encontrar bons negócios."
   ]
  },
  {
   "attachments": {},
   "cell_type": "markdown",
   "metadata": {},
   "source": [
    "## 1.2 - As perguntas do contratante (CEO):\n",
    "\n",
    "1. Qual a média do preço de compra dos imóveis por “Nível”? \n",
    "- Nível 0 -> Preço entre R$ 0 e R$ 321.950\n",
    "- Nível 1 -> Preço entre R$ 321.950 e R$ 450.000\n",
    "- Nível 2 -> Preço entre R$ 450.000 e R$ 645.000\n",
    "- Nível 3 -> Acima de R$ 645.000\n",
    "\n",
    "2. Qual a média do tamanho da sala de estar dos imóveis por “Size” ?\n",
    "- Size 0 -> Tamanho entre 0 e 1427 sqft\n",
    "- Size 1 -> Tamanho entre 1427 e 1910 sqft\n",
    "- Size 2 -> Tamanho entre 1910 e 2550 sqft\n",
    "- Size 3 -> Tamanho acima de 2550 sqft\n",
    "\n",
    "3. Adicione as seguinte informações ao conjunto de dados original:\n",
    "- Place ID: Identificação da localização \n",
    "- OSM Type: Open Street Map type\n",
    "- Country: Nome do País\n",
    "- Country Code: Código do País\n",
    "\n",
    "4. Adicione os seguinte filtros no Mapa:\n",
    "- Tamanho mínimo da área da sala de estar.\n",
    "- Número mínimo de banheiros.\n",
    "- Valor Máximo do Preço.\n",
    "- Tamanho máximo da área do porão.\n",
    "- Filtro das Condições do Imóvel.\n",
    "- Filtro por Ano de Construção.\n",
    "\n",
    "5. Adicione os seguinte filtros no Dashboard:\n",
    "- Filtro por data disponível para compra.\n",
    "- Filtro por ano de renovação.\n",
    "- Filtro se possui vista para a água ou não."
   ]
  },
  {
   "attachments": {},
   "cell_type": "markdown",
   "metadata": {},
   "source": [
    "# 2.0 - Planejamento da solução\n",
    "## 2.1 - Planejamento do produto final\n",
    "* Email+3 anexos:\n",
    "  * Email: Pergunta | Resposta;\n",
    "  * Anexo1: Arquivo .csv com as novas informações requisitadas;\n",
    "  * Anexo2: Um mapa com os filtros requisitados;\n",
    "  * Anexo3: Um dashboard com os filtros requisitados.\n",
    "\n",
    "## 2.2 - Planejamento das ferramentas\n",
    "* Python 3.9.2\n",
    "* Jupyter Notebook\n",
    "* VSCode"
   ]
  },
  {
   "attachments": {},
   "cell_type": "markdown",
   "metadata": {},
   "source": [
    "## 2.3 - Planejamento do processo"
   ]
  },
  {
   "cell_type": "code",
   "execution_count": null,
   "metadata": {},
   "outputs": [],
   "source": [
    "# Carregar bibliotecas e dataset\n",
    "import pandas as pd"
   ]
  },
  {
   "cell_type": "code",
   "execution_count": null,
   "metadata": {},
   "outputs": [],
   "source": [
    "df = pd.read_csv('datasets/kc_house_data.csv')\n",
    "df.dtypes\n"
   ]
  },
  {
   "attachments": {},
   "cell_type": "markdown",
   "metadata": {},
   "source": [
    "1. Qual a média do preço de compra dos imóveis por “Nível”? \n",
    "- Nível 0 -> Preço entre R$ 0 e R$ 321.950\n",
    "- Nível 1 -> Preço entre R$ 321.950 e R$ 450.000\n",
    "- Nível 2 -> Preço entre R$ 450.000 e R$ 645.000\n",
    "- Nível 3 -> Acima de R$ 645.000"
   ]
  },
  {
   "attachments": {},
   "cell_type": "markdown",
   "metadata": {},
   "source": [
    ">>  Criar coluna 'nível' com a classificação mediante o intervalo de prços da instrução acima;\n"
   ]
  },
  {
   "cell_type": "code",
   "execution_count": null,
   "metadata": {},
   "outputs": [],
   "source": [
    "df['nivel'] = 'NA'"
   ]
  },
  {
   "cell_type": "code",
   "execution_count": null,
   "metadata": {},
   "outputs": [],
   "source": [
    "%%timeit\n",
    "df['nivel'] = df['price'].apply( lambda x: \n",
    "                'Nivel 0'   if x < 321950.00 else \n",
    "                'Nivel 1'   if (x>=321950.00) & (x<450000.00) else\n",
    "                'Nivel 2'   if (x>=450000.00) & (x<645000.00) else \n",
    "                'Nivel 3' )\n",
    "df[['price','nivel']]"
   ]
  },
  {
   "cell_type": "code",
   "execution_count": null,
   "metadata": {},
   "outputs": [],
   "source": [
    "%%timeit\n",
    "\n",
    "df.loc[df['price']<321950.00,'nivel'] = 'Nivel 0'\n",
    "df.loc[(df['price']>=321950.00) & (df['price']<450000.00),'nivel'] = 'Nivel 1'\n",
    "df.loc[(df['price']>=450000.00) & (df['price']<645000.00),'nivel'] = 'Nivel 2'\n",
    "df.loc[df['price']>=645000.00,'nivel'] = 'Nivel 3'\n",
    "\n",
    "df[['price','nivel']]"
   ]
  },
  {
   "attachments": {},
   "cell_type": "markdown",
   "metadata": {},
   "source": [
    ">> Agrupar por 'nivel' e calcular a média dos preços.\n"
   ]
  },
  {
   "cell_type": "code",
   "execution_count": null,
   "metadata": {},
   "outputs": [],
   "source": [
    "df[['price','nivel']].groupby('nivel').mean().reset_index()"
   ]
  },
  {
   "attachments": {},
   "cell_type": "markdown",
   "metadata": {},
   "source": [
    "2. Qual a média do tamanho da sala de estar dos imóveis por “Size” ?\n",
    "- Size 0 -> Tamanho entre 0 e 1427 sqft\n",
    "- Size 1 -> Tamanho entre 1427 e 1910 sqft\n",
    "- Size 2 -> Tamanho entre 1910 e 2550 sqft\n",
    "- Size 3 -> Tamanho acima de 2550 sqft"
   ]
  },
  {
   "attachments": {},
   "cell_type": "markdown",
   "metadata": {},
   "source": [
    ">> Criar coluna 'size' classificando os imóveis de acordo com a tabela de tamanho;\n",
    ">>\n",
    ">> Agrupar por 'size' e calcular a média do tamanho da sala."
   ]
  },
  {
   "cell_type": "code",
   "execution_count": null,
   "metadata": {},
   "outputs": [],
   "source": [
    "df['size'] = \"NA\""
   ]
  },
  {
   "cell_type": "code",
   "execution_count": null,
   "metadata": {},
   "outputs": [],
   "source": [
    "%%timeit\n",
    "df.loc[df['sqft_living']<1427, 'size'] = 'Size 0'\n",
    "df.loc[(df['sqft_living']>=1427) & (df['sqft_living']<1910),'size'] = 'Size 1'\n",
    "df.loc[(df['sqft_living']>=1910) & (df['sqft_living']<2550),'size'] = 'Size 2'\n",
    "df.loc[df['sqft_living']>2550, 'size'] = 'Size 3'\n",
    "df[['sqft_living','size']]"
   ]
  },
  {
   "attachments": {},
   "cell_type": "markdown",
   "metadata": {},
   "source": [
    "3. Adicione as seguinte informações ao conjunto de dados original:\n",
    "- Place ID: Identificação da localização \n",
    "- OSM Type: Open Street Map type\n",
    "- Country: Nome do País\n",
    "- Country Code: Código do País"
   ]
  },
  {
   "cell_type": "code",
   "execution_count": null,
   "metadata": {},
   "outputs": [],
   "source": [
    "from geopy.geocoders import Nominatim"
   ]
  },
  {
   "cell_type": "code",
   "execution_count": null,
   "metadata": {},
   "outputs": [],
   "source": [
    "# Inicializa Nominatim API\n",
    "geolocator = Nominatim( user_agent='geoapiExercicios')"
   ]
  },
  {
   "cell_type": "code",
   "execution_count": null,
   "metadata": {},
   "outputs": [],
   "source": [
    "df['place_id'] = 'NA'\n",
    "df['osm_type'] = 'NA'\n",
    "df['country'] = 'NA'\n",
    "df['country_code'] = 'NA'"
   ]
  },
  {
   "cell_type": "code",
   "execution_count": null,
   "metadata": {},
   "outputs": [],
   "source": [
    "df_len = int(len(df)/1000)\n",
    "for i in range( df_len ):\n",
    "    print('Loop {} / {}'.format(i, df_len))\n",
    "    query = str(df['lat'][i])+','+str(df['long'][i])\n",
    "\n",
    "    response = geolocator.reverse( query )\n",
    "    response.raw['address']\n",
    "\n",
    "    if 'country' in response.raw['address']:\n",
    "        df.loc[i,'country'] = response.raw['address']['country']\n",
    "\n",
    "    if 'country_code' in response.raw['address']:\n",
    "        df.loc[i,'country_code'] = response.raw['address']['country_code']\n"
   ]
  },
  {
   "cell_type": "code",
   "execution_count": null,
   "metadata": {},
   "outputs": [],
   "source": [
    "df.head()\n"
   ]
  },
  {
   "attachments": {},
   "cell_type": "markdown",
   "metadata": {},
   "source": [
    "4. Adicione os seguinte filtros no Mapa:\n",
    "- Tamanho mínimo da área da sala de estar.\n",
    "- Número mínimo de banheiros.\n",
    "- Valor Máximo do Preço.\n",
    "- Tamanho máximo da área do porão.\n",
    "- Filtro das Condições do Imóvel.\n",
    "- Filtro por Ano de Construção."
   ]
  },
  {
   "cell_type": "code",
   "execution_count": null,
   "metadata": {},
   "outputs": [],
   "source": [
    "df.dtypes"
   ]
  },
  {
   "cell_type": "code",
   "execution_count": null,
   "metadata": {},
   "outputs": [],
   "source": [
    "import plotly.express as px\n",
    "import ipywidgets as widgets\n",
    "from ipywidgets import Layout\n",
    "from ipywidgets import fixed"
   ]
  },
  {
   "cell_type": "code",
   "execution_count": null,
   "metadata": {},
   "outputs": [],
   "source": [
    "style = {'description_width': 'initial'}\n",
    "# Iteractive buttons\n",
    "price_limit = widgets.IntSlider(\n",
    "    value = int(df['price'].median()),\n",
    "    min = int(df['price'].min()),\n",
    "    max = int(df['price'].max()),\n",
    "    step = int(df['price'].median()/10),\n",
    "    description='Maximun Price',\n",
    "    disable=False,\n",
    "    style=style\n",
    ")"
   ]
  },
  {
   "cell_type": "code",
   "execution_count": null,
   "metadata": {},
   "outputs": [],
   "source": [
    "df['bedrooms'].unique().tolist()"
   ]
  },
  {
   "cell_type": "code",
   "execution_count": null,
   "metadata": {},
   "outputs": [],
   "source": [
    "bedrooms_bar = widgets.Dropdown(\n",
    "    options = df['bedrooms'].unique().tolist(),\n",
    "    value = 3,\n",
    "    description = 'Bedrooms',\n",
    "    disable=False\n",
    ")"
   ]
  },
  {
   "cell_type": "code",
   "execution_count": null,
   "metadata": {},
   "outputs": [],
   "source": [
    "def update_map( df, bedrooms, limit ):\n",
    "    filtro = ((df['price'] <= limit) & (df['bedrooms'] == bedrooms))\n",
    "    campos = ['id', 'lat', 'long', 'price', 'bedrooms','nivel']\n",
    "    df = df[filtro][campos]\n",
    "    \n",
    "    fig = px.scatter_mapbox( df, \n",
    "                             lat=\"lat\", \n",
    "                             lon=\"long\", \n",
    "                             size=\"price\",\n",
    "                             color=\"nivel\",\n",
    "                             color_continuous_scale=px.colors.cyclical.IceFire, \n",
    "                             size_max=15, \n",
    "                             zoom=10)\n",
    "    fig.update_layout(mapbox_style=\"open-street-map\")\n",
    "    fig.update_layout(height=600, margin={\"r\":0,\"t\":0,\"l\":0,\"b\":0})\n",
    "    fig.show()\n",
    "\n"
   ]
  },
  {
   "cell_type": "code",
   "execution_count": null,
   "metadata": {},
   "outputs": [],
   "source": [
    "widgets.interactive( update_map, df=fixed( df ), bedrooms=bedrooms_bar, limit=price_limit )"
   ]
  },
  {
   "attachments": {},
   "cell_type": "markdown",
   "metadata": {},
   "source": [
    "5. Adicione os seguinte filtros no Dashboard:\n",
    "- Filtro por data disponível para compra.\n",
    "- Filtro por ano de renovação.\n",
    "- Filtro se possui vista para a água ou não."
   ]
  },
  {
   "cell_type": "code",
   "execution_count": null,
   "metadata": {},
   "outputs": [],
   "source": [
    "from matplotlib import gridspec\n",
    "from matplotlib import pyplot as plt "
   ]
  },
  {
   "cell_type": "code",
   "execution_count": null,
   "metadata": {},
   "outputs": [],
   "source": [
    "df.dtypes"
   ]
  },
  {
   "cell_type": "code",
   "execution_count": null,
   "metadata": {},
   "outputs": [],
   "source": [
    "# Change data format\n",
    "df['year']      = pd.to_datetime( df['date'] ).dt.strftime( '%Y' )\n",
    "df['date']      = pd.to_datetime( df['date'] ).dt.strftime( '%Y-%m-%d' )\n",
    "df['year_week'] = pd.to_datetime( df['date'] ).dt.strftime( '%Y-%U' )\n",
    "df['yr_built']  = pd.to_datetime( df['yr_built'] ).dt.strftime( '%Y-%m-%d' )\n",
    "df['yr_renovated']  = pd.to_datetime( df['yr_renovated'] ).dt.strftime( '%Y-%m-%d' )\n",
    "df[['date','year','year_week','yr_renovated','yr_built']].head()"
   ]
  }
 ],
 "metadata": {
  "kernelspec": {
   "display_name": "Python 3.9.2 ('pylab-env': venv)",
   "language": "python",
   "name": "python3"
  },
  "language_info": {
   "codemirror_mode": {
    "name": "ipython",
    "version": 3
   },
   "file_extension": ".py",
   "mimetype": "text/x-python",
   "name": "python",
   "nbconvert_exporter": "python",
   "pygments_lexer": "ipython3",
   "version": "3.9.2 (default, Feb 28 2021, 17:03:44) \n[GCC 10.2.1 20210110]"
  },
  "orig_nbformat": 4,
  "vscode": {
   "interpreter": {
    "hash": "bba2146f8efe6fb834caf575ce15b2ba1d9d995a97ee4586b6df2560c421d970"
   }
  }
 },
 "nbformat": 4,
 "nbformat_minor": 2
}
