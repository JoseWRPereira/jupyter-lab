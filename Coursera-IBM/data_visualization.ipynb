{
 "cells": [
  {
   "cell_type": "markdown",
   "metadata": {},
   "source": [
    "# Visualização de Dados - IBM - Coursera\n"
   ]
  },
  {
   "cell_type": "markdown",
   "metadata": {},
   "source": [
    "Semana 1: Introdução às ferramentas de visualização de dados"
   ]
  },
  {
   "cell_type": "markdown",
   "metadata": {},
   "source": [
    "Por que visualizar dados?\n",
    "* Análise exploratória dos dados\n",
    "* Comunicação clara dos dados\n",
    "* Representação não enviesada dos dados\n",
    "* Usar dados como suporte a recomendações às diferentes partes envolvidas\n"
   ]
  },
  {
   "cell_type": "markdown",
   "metadata": {},
   "source": [
    "[DarkHorse Analytics](darkhorseanalytics.com) - Consultoria - Alberta University/US (2008)\n",
    "* Pilares da visualização de dados\n",
    "    * Less is more effective\n",
    "    * Less is more atractive\n",
    "    * Less is more impactive"
   ]
  },
  {
   "cell_type": "markdown",
   "metadata": {},
   "source": [
    "Semana 2: Ferramentas de visualização básicas e avançadas"
   ]
  },
  {
   "cell_type": "markdown",
   "metadata": {},
   "source": [
    "Semana 3: Visualizações avançadas e dados geoespaciais"
   ]
  }
 ],
 "metadata": {
  "kernelspec": {
   "display_name": "Python 3.9.2 ('pylab-env': venv)",
   "language": "python",
   "name": "python3"
  },
  "language_info": {
   "name": "python",
   "version": "3.9.2"
  },
  "orig_nbformat": 4,
  "vscode": {
   "interpreter": {
    "hash": "bba2146f8efe6fb834caf575ce15b2ba1d9d995a97ee4586b6df2560c421d970"
   }
  }
 },
 "nbformat": 4,
 "nbformat_minor": 2
}
