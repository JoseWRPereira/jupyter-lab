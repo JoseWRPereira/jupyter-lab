{
 "cells": [
  {
   "attachments": {},
   "cell_type": "markdown",
   "metadata": {},
   "source": [
    "# 1.0 - O Problema do negócio\n",
    "\n",
    "## Empresa: House Rocket\n",
    "* O que faz? \n",
    "    * Plataforma de compras e vendas de imóveis.\n",
    "* Qual é o problema? \n",
    "    * O CEO da empresa gostaria de maximizar os lucros encontrando bons negócios.\n",
    "* Qual é a principal estratégia?\n",
    "    * Fontes externas para encontrar bons negócios.\n",
    "\n",
    "## As perguntas do CEO:\n",
    "1. Quantas casas estão disponíveis para compra?\n",
    "2. Quantos atributos as casa possuem? ( nº de quartos, nº de garagens, m², ... )\n",
    "3. Quais são os atributos?\n",
    "4. Qual a casa mais cara do portfólio ( casa com maior valor )?\n",
    "5. Qual a casa com o maior número de quartos?\n"
   ]
  },
  {
   "attachments": {},
   "cell_type": "markdown",
   "metadata": {},
   "source": [
    "# 2.0 - Planejamento da solução\n",
    "\n",
    "## 2.1 - Planejamento do produto final\n",
    "\n",
    "* O que eu vou entregar? ( Planilha, Texto, Email, Modelos de ML, ... )\n",
    "    * R: Texto com as respostas.\n",
    "* Como vai ser a entrega?\n",
    "    * R: Perguntas | Respostas\n",
    "    * Exemplo:\n",
    "        1. Quantas casas estão disponíveis para compra?\n",
    "        * 2300 imóveis disponíveis para compra\n",
    "\n",
    "## 2.2 - Planejamento do processo\n",
    "\n",
    "* Onde está a informação? ( Excel, BD, API, manual )\n",
    "    * R: https://www.kaggle.com/harlfoxem/housesalesprediction\n",
    "* Como coletar essas informações? ( SQL, Python, Streamlit, ... )\n",
    "    * R: Download ( Apertar o botão )\n",
    "* Responder as perguntas?\n",
    "    1. Quantas casas estão disponíveis para compra?\n",
    "        * R: Contar o número de linhas do conjunto de dados\n",
    "    2. Quantos atributos as casa possuem? ( nª de quartos, garagens, m², ... )\n",
    "        * R: Contar o número de colunas do conjunto de dados\n",
    "    3. Quais são os atributos?\n",
    "        * R: Mostrar o nome das colunas ( automática )\n",
    "    4. Qual a casa mais cara do portfólio ( casa com maior valor )?\n",
    "        * R: Ordenar as linhas pela coluna de preco ( atributos )\n",
    "    5. Qual a casa com o maior número de quartos?\n",
    "        * R: Contar o número de linhas pela coluna numero de quartos ( atributo )\n",
    "\n",
    "## 2.3 - Planejamento das ferramentas\n",
    " \n",
    "Quais ferramentas usar?\n",
    "* Excel\n",
    "    - Fácil de usar;\n",
    "    - Barato;\n",
    "    - Muito usado pelos times não técnicos;\n",
    "    - Poder de processamento limitado ( ~1 Milhão de células ).\n",
    "* Linguagem de programação\n",
    "    - Desenvolida para criar software.\n",
    "    - Processar e Manipular -> *Insights*;\n",
    "    - Escalável;\n",
    "    - Modularização."
   ]
  },
  {
   "attachments": {},
   "cell_type": "markdown",
   "metadata": {},
   "source": [
    "# 3.0 Comandos para resolver o problema\n",
    "\n",
    "1. Contar o número de linhas do conjunto de dados;\n",
    "2. Contar o número de colunas do conjunto de dados;\n",
    "3. Mostrar o nome das colunas ( automática );\n",
    "4. Ordenar as linhas pela coluna de preço ( atributos );\n",
    "5. Ordenar as linhas pela coluna de número de quartos ( atributos ).\n",
    "\n",
    "## 3.1 Analogia \n",
    "\n",
    "Livro de Receita **Organiza** Receita\n",
    "Receita **Replica** Modo de Preparo\n",
    "Modo de Preparo **Manipula** Ingredientes\n",
    "\n",
    "Biblioteca **Organiza** Funções\n",
    "Funções **Replica** Comandos\n",
    "Comandos **Manipula** Variáveis\n",
    "\n"
   ]
  },
  {
   "attachments": {},
   "cell_type": "markdown",
   "metadata": {},
   "source": [
    "4.0 - Perguntas do CEO - Exercício\n",
    "\n",
    "1. Quantas casas estão disponíveis para compra?\n",
    "2. Quantos atributos as casas possuem?\n",
    "3. Quais são os atributos das casas?\n",
    "4. Qual a casa mais cara ( casa com o maior valor de venda )?\n",
    "5. Qual a casa com o maior número de quartos?\n",
    "6. Qual a soma total de quartos do conjunto de dados?\n",
    "7. Quantas casas possuem 2 banheiros?\n",
    "8. Qual o preço médio de todas as casas no conjunto de dados?\n",
    "9. Qual o preço médio de casas com 2 banheiros?\n",
    "10. Qual o preço mínimo entre as casas com 3 quartos?\n",
    "11. Quantas casas possuem mais de 300 metros quadrados na sala\n",
    "de estar?\n",
    "12. Quantas casas tem mais de 2 andares?\n",
    "13. Quantas casas tem vista para o mar?\n",
    "14. Das casas com vista para o mar, quantas tem 3 quartos?\n",
    "15. Das casas com mais de 300 metros quadrados de sala de estar,\n",
    "quantas tem mais de 2 banheiros?"
   ]
  }
 ],
 "metadata": {
  "kernelspec": {
   "display_name": "Python 3.9.2 ('pylab-env': venv)",
   "language": "python",
   "name": "python3"
  },
  "language_info": {
   "name": "python",
   "version": "3.9.2 (default, Feb 28 2021, 17:03:44) \n[GCC 10.2.1 20210110]"
  },
  "orig_nbformat": 4,
  "vscode": {
   "interpreter": {
    "hash": "bba2146f8efe6fb834caf575ce15b2ba1d9d995a97ee4586b6df2560c421d970"
   }
  }
 },
 "nbformat": 4,
 "nbformat_minor": 2
}
