{
 "cells": [
  {
   "attachments": {},
   "cell_type": "markdown",
   "metadata": {},
   "source": [
    "# Curso de Python do Zero ao DS\n",
    "## Profº Meigarom\n",
    "### Canal: Seja um Data Scientist\n"
   ]
  },
  {
   "attachments": {},
   "cell_type": "markdown",
   "metadata": {},
   "source": [
    "## Agenda\n",
    "\n",
    "* 1.0 - O Problema do negócio\n",
    "  * 1.1 - A Empresa: House Rocket\n",
    "  * 1.2 - As perguntas do contratante (CEO)\n",
    "* 2.0 - Planejamento da solução\n",
    "  * 2.1 - Planejamento do produto final\n",
    "  * 2.2 - Planejamento das ferramentas\n",
    "  * 2.3 - Planejamento do processo\n",
    "* 3.0 - Solução\n",
    "* 4.0 - Entrega"
   ]
  },
  {
   "attachments": {},
   "cell_type": "markdown",
   "metadata": {},
   "source": [
    "# 1.0 - O Problema do negócio\n",
    "\n",
    "## 1.1 - A Empresa: House Rocket\n",
    "* O que faz? \n",
    "    * Plataforma de compras e vendas de imóveis.\n",
    "* Qual é o problema? \n",
    "    * O CEO da empresa gostaria de maximizar os lucros encontrando bons negócios.\n",
    "* Qual é a principal estratégia?\n",
    "    * Fontes externas para encontrar bons negócios."
   ]
  },
  {
   "attachments": {},
   "cell_type": "markdown",
   "metadata": {},
   "source": [
    "## 1.2 - As perguntas do contratante (CEO):\n",
    "\n",
    "1. Qual a quantidade de imóveis por nível?\n",
    "- Nível 0 -> Preço entre R$ 0 e R$321.950\n",
    "- Nível 1 -> Preço entre R$ 321.950 e R$ 450.000\n",
    "- Nível 2 -> Preço entre R$ 450.000 e R$ 645.000\n",
    "- Nível 3 -> Acima de R$ 645.000 \n",
    "\n",
    "2. Adicione as seguintes informações ao imóvel:\n",
    "- O nome da Rua\n",
    "- O número do Imóvel\n",
    "- O nome do Bairro\n",
    "- O nome da Cidade\n",
    "- O nome da Estado\n",
    "\n",
    "3. Adicionar o Nível dos imóveis no Mapa como uma Cor\n",
    "\n",
    "4. Adicionar o Preço dos imóveis como o tamanho do ponto no mapa\n",
    "\n",
    "5. Adicionar opções de filtros para eu fazer minhas próprias análises:\n",
    "   1. Eu quero escolher visualizar imóveis com vista para água ou não.\n",
    "   2. Eu quero filtrar os imóveis até um certo valor de preço.\n",
    "   3. Adicionar opções de filtros no último dashboard enviado:\n",
    "   4. Eu quero visualizar somente valor a partir de um data disponível para compra\n",
    "\n",
    "6. Adicionar opções de filtros no último dashboard enviado:\n",
    "   1. Eu quero visualizar somente valor a partir de um data disponível para compra."
   ]
  },
  {
   "attachments": {},
   "cell_type": "markdown",
   "metadata": {},
   "source": [
    "# 2.0 - Planejamento da solução\n",
    "## 2.1 - Planejamento do produto final\n",
    "* Email+3 anexos:\n",
    "  * Email: Pergunta | Resposta;\n",
    "  * Anexo1: Arquivo .csv com as novas informações requisitadas;\n",
    "  * Anexo2: Um mapa com os filtros requisitados;\n",
    "  * Anexo3: Um dashboard com os filtros requisitados.\n",
    "\n",
    "## 2.2 - Planejamento das ferramentas\n",
    "* Python 3.9.2\n",
    "* Jupyter Notebook\n",
    "* VSCode"
   ]
  },
  {
   "attachments": {},
   "cell_type": "markdown",
   "metadata": {},
   "source": [
    "## 2.3 - Planejamento do processo"
   ]
  },
  {
   "attachments": {},
   "cell_type": "markdown",
   "metadata": {},
   "source": [
    "1. Qual a quantidade de imóveis por nível?\n",
    "- Nível 0 -> Preço entre R$ 0 e R$321.950\n",
    "- Nível 1 -> Preço entre R$ 321.950 e R$ 450.000\n",
    "- Nível 2 -> Preço entre R$ 450.000 e R$ 645.000\n",
    "- Nível 3 -> Acima de R$ 645.000 "
   ]
  },
  {
   "attachments": {},
   "cell_type": "markdown",
   "metadata": {},
   "source": [
    "> Popular a nova coluna chamada 'Nivel' com os valores condicionados aos intervalos."
   ]
  },
  {
   "attachments": {},
   "cell_type": "markdown",
   "metadata": {},
   "source": [
    "2. Adicione as seguintes informações ao imóvel:\n",
    "- O nome da Rua\n",
    "- O número do Imóvel\n",
    "- O nome do Bairro\n",
    "- O nome da Cidade\n",
    "- O nome da Estado"
   ]
  },
  {
   "attachments": {},
   "cell_type": "markdown",
   "metadata": {},
   "source": [
    "> Onde estão essas informações?\n",
    ">   * Tem no BD da empresa?\n",
    ">   * São fornecidas por alguma API?\n",
    ">   * Dentro da pasta de um colega de trabalho?\n",
    "> Qual dado eu tenho na minha base que eu consiga fazer o link? \n",
    "> Como coletar e anexá-lo ao conjunto de dados original?"
   ]
  },
  {
   "attachments": {},
   "cell_type": "markdown",
   "metadata": {},
   "source": [
    "3. Adicionar o Nível dos imóveis no Mapa como uma Cor"
   ]
  },
  {
   "attachments": {},
   "cell_type": "markdown",
   "metadata": {},
   "source": [
    "> Adicionar a coluna 'Nivel' com uma cor no mapa"
   ]
  },
  {
   "attachments": {},
   "cell_type": "markdown",
   "metadata": {},
   "source": [
    "4. Adicionar o Preço dos imóveis como o tamanho do ponto no mapa"
   ]
  },
  {
   "attachments": {},
   "cell_type": "markdown",
   "metadata": {},
   "source": [
    "> Adicionar a coluna 'Price' com uma cor no mapa"
   ]
  },
  {
   "attachments": {},
   "cell_type": "markdown",
   "metadata": {},
   "source": [
    "5. Adicionar opções de filtros para eu fazer minhas próprias análises:\n",
    "   1. Eu quero escolher visualizar imóveis com vista para água ou não.\n",
    "   2. Eu quero filtrar os imóveis até um certo valor de preço.\n",
    "   3. Adicionar opções de filtros no último dashboard enviado:\n",
    "   4. Eu quero visualizar somente valor a partir de um data disponível para compra"
   ]
  },
  {
   "attachments": {},
   "cell_type": "markdown",
   "metadata": {},
   "source": [
    "> Encontrar biblioteca que tenha funções que permitam colocar filtros no Jupyter Notebooks.\n",
    "> \n",
    "> Entender o funcionamento da biblioteca e adicionar no Jupyter notebook"
   ]
  },
  {
   "attachments": {},
   "cell_type": "markdown",
   "metadata": {},
   "source": [
    "6. Adicionar opções de filtros no último dashboard enviado:\n",
    "   1. Eu quero visualizar somente valor a partir de um data disponível para compra."
   ]
  },
  {
   "attachments": {},
   "cell_type": "markdown",
   "metadata": {},
   "source": [
    "> Encontrar biblioteca que tenha funções que permitam colocar filtros no Jupyter Notebooks.\n",
    "> \n",
    "> Entender o funcionamento da biblioteca e adicionar no Jupyter notebook"
   ]
  }
 ],
 "metadata": {
  "kernelspec": {
   "display_name": "Python 3.9.2 ('pylab-env': venv)",
   "language": "python",
   "name": "python3"
  },
  "language_info": {
   "codemirror_mode": {
    "name": "ipython",
    "version": 3
   },
   "file_extension": ".py",
   "mimetype": "text/x-python",
   "name": "python",
   "nbconvert_exporter": "python",
   "pygments_lexer": "ipython3",
   "version": "3.9.2"
  },
  "orig_nbformat": 4,
  "vscode": {
   "interpreter": {
    "hash": "bba2146f8efe6fb834caf575ce15b2ba1d9d995a97ee4586b6df2560c421d970"
   }
  }
 },
 "nbformat": 4,
 "nbformat_minor": 2
}
