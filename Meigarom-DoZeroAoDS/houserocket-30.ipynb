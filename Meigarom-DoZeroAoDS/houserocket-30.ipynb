{
 "cells": [
  {
   "attachments": {},
   "cell_type": "markdown",
   "metadata": {},
   "source": [
    "# Curso de Python do Zero ao DS\n",
    "## Profº Meigarom\n",
    "### Canal: Seja um Data Scientist\n"
   ]
  },
  {
   "attachments": {},
   "cell_type": "markdown",
   "metadata": {},
   "source": [
    "## Agenda\n",
    "\n",
    "* 1.0 - O Problema do negócio\n",
    "  * 1.1 - A Empresa: House Rocket\n",
    "  * 1.2 - As perguntas do contratante (CEO)\n",
    "* 2.0 - Planejamento da solução\n",
    "  * 2.1 - Planejamento do produto final\n",
    "  * 2.2 - Planejamento das ferramentas\n",
    "  * 2.3 - Planejamento do processo\n",
    "* 3.0 - Resolução/Exercícios\n",
    "* 4.0 - Entrega"
   ]
  },
  {
   "attachments": {},
   "cell_type": "markdown",
   "metadata": {},
   "source": [
    "# 1.0 - O Problema do negócio\n",
    "\n",
    "## 1.1 - A Empresa: House Rocket\n",
    "* O que faz? \n",
    "    * Plataforma de compras e vendas de imóveis.\n",
    "* Qual é o problema? \n",
    "    * O CEO da empresa gostaria de maximizar os lucros encontrando bons negócios.\n",
    "* Qual é a principal estratégia?\n",
    "    * Fontes externas para encontrar bons negócios.\n"
   ]
  },
  {
   "attachments": {},
   "cell_type": "markdown",
   "metadata": {},
   "source": [
    "## 1.2 - As perguntas do contratante (CEO):"
   ]
  },
  {
   "attachments": {},
   "cell_type": "markdown",
   "metadata": {},
   "source": [
    "1. Qual o número de imóveis por ano de construção?\n",
    "> Contar o número de IDs por ano de contrução."
   ]
  },
  {
   "attachments": {},
   "cell_type": "markdown",
   "metadata": {},
   "source": [
    "2. Qual o menor número de quartos por ano de construção dos imóveis?\n",
    "\n",
    "> Filtrar todos os imóveis por ano de construção;\n",
    "> Selecionar o menor número e quartos."
   ]
  },
  {
   "attachments": {},
   "cell_type": "markdown",
   "metadata": {},
   "source": [
    "3. Qual o preço de compra mais alto por cada número de quartos?\n",
    "\n",
    "> Filtrar todos os imóveis por número de quartos;\n",
    "> Selecionar o de maior preço."
   ]
  },
  {
   "attachments": {},
   "cell_type": "markdown",
   "metadata": {},
   "source": [
    "4. Qual a soma de todos os preços de compra por cada número de quartos?\n",
    "\n",
    "> Filtrar todos os imóveis por número de quartos;\n",
    "> Somar todos os preços."
   ]
  },
  {
   "attachments": {},
   "cell_type": "markdown",
   "metadata": {},
   "source": [
    "5. Qual a soma de todos os preços de compra pelo número de quartos e banheiros?\n",
    "\n",
    "> Filtrar todos os imóveis por número de quartos;\n",
    "> Filtrar todos os imóveis por número de banheiros;\n",
    "> Somar todos os preços."
   ]
  },
  {
   "attachments": {},
   "cell_type": "markdown",
   "metadata": {},
   "source": [
    "6. Qual o tamanho médio das salas dos imóveis por ano de construção?\n",
    "\n",
    "> Filtrar todos os imóveis por ano de construção;\n",
    "> Fazer a média do tamanho da sala."
   ]
  },
  {
   "attachments": {},
   "cell_type": "markdown",
   "metadata": {},
   "source": [
    "7. Qual o tamanho mediano das salas dos imóveis por ano de construção?\n",
    "\n",
    "> Filtrar todos os imóveis por ano de construção;\n",
    "> Fazer a mediaana do tamanho da sala."
   ]
  },
  {
   "attachments": {},
   "cell_type": "markdown",
   "metadata": {},
   "source": [
    "8. Qual o desvio-padrão do tamanho das salas dos imóveis por ano de construção?\n",
    "\n",
    "> Filtrar todos os imóveis por ano de construção;\n",
    "> Fazer o desvio padrão do tamanho da sala."
   ]
  },
  {
   "attachments": {},
   "cell_type": "markdown",
   "metadata": {},
   "source": [
    "9. Como é o crescimento médio preços de compra dos imóveis, por dia e semana do ano?\n",
    "\n",
    "> Filtrar todos os imóveis por ano;\n",
    "> Plotar gráfico onde x:ano e y:media do preço/ano;\n",
    "> Biblioteca para plotar gráfico de linhas."
   ]
  },
  {
   "attachments": {},
   "cell_type": "markdown",
   "metadata": {},
   "source": [
    "10. Eu gostaria de olhar no mapa e conseguir identificar as casas com o maior preço.\n",
    "\n",
    "> Modificar o gráfico da aula anterior:\n",
    ">   Os pontos devem ter o tamanho proporcional ao preço."
   ]
  },
  {
   "attachments": {},
   "cell_type": "markdown",
   "metadata": {},
   "source": [
    "# 2.0 - Planejamento da solução\n",
    "\n",
    "## 2.1 - Planejamento do produto final\n",
    "* E-mail + 2 anexos:\n",
    "  * E-mail: Pergunta | Resposta;\n",
    "  * Anexo1: Dashboard com 3 gráficos;\n",
    "  * Anexo2: Mapa no formato html."
   ]
  },
  {
   "attachments": {},
   "cell_type": "markdown",
   "metadata": {},
   "source": [
    "## 2.2 - Planejamento das ferramentas\n",
    "* Python 3.9.2;\n",
    "* Jupyter Notebook;\n",
    "* VSCode."
   ]
  },
  {
   "attachments": {},
   "cell_type": "markdown",
   "metadata": {},
   "source": [
    "## 2.3 - Planejamento do processo\n",
    "1. Qual o número de imóveis por ano de construção?\n",
    "2. Qual o menor número de quartos por ano de construção dos imóveis?\n",
    "3. Qual o preço de compra mais alto por cada número de quartos?\n",
    "4. Qual a soma de todos os preços de compra por cada número de quartos?\n",
    "5. Qual a soma de todos os preços de compra pelo número de quartos e banheiros?\n",
    "6. Qual o tamanho médio das salas dos imóveis por ano de construção?\n",
    "7. Qual o tamanho mediano das salas dos imóveis por ano de construção?\n",
    "8. Qual o desvio-padrão do tamanho das salas dos imóveis por ano de construção?\n",
    "9. Como é o crescimento médio preços de compra dos imóveis, por dia e semana do ano?\n",
    "10. Eu gostaria de olhar no mapa e conseguir identificar as casas com o maior preço."
   ]
  },
  {
   "attachments": {},
   "cell_type": "markdown",
   "metadata": {},
   "source": [
    "# 3.0 - Resolução/Exercícios\n",
    "\n",
    "1. Crie uma nova coluna chamada: “dormitory_type”\n",
    "- Se o valor da coluna “bedrooms” for igual à 1 => ‘studio’\n",
    "- Se o valor da coluna “bedrooms” for igual a 2 => ‘apartament’\n",
    "- Se o valor da coluna “bedrooms” for maior que 2 => ‘house’\n",
    "\n",
    "2. Faça um gráfico de barras que represente a soma dos preços pelo número de quartos.\n",
    "\n",
    "3. Faça um gráfico de linhas que represente a média dos preços pelo ano construção dos imóveis.\n",
    "\n",
    "4. Faça um gráfico de barras que represente a média dos preços pelo tipo dos dormitórios.\n",
    "\n",
    "5. Faça um gráfico de linha que mostre a evolução da média dos preços pelo ano da reforma dos imóveis, a partir do ano de 1930.\n",
    "\n",
    "6. Faça um tabela que mostre a média dos preços por ano de construção e tipo de dormitórios dos imóveis.\n",
    "\n",
    "7. Crie um Dashboard com os gráficos das questões 02, 03, 04\n",
    "( Dashboard: 1 Linha e 2 colunas )\n",
    "\n",
    "8. Crie um Dashboard com os gráficos das perguntas 02, 04\n",
    "( Dashboard: 2 colunas )\n",
    "\n",
    "9. Crie um Dashboard com os gráficos das perguntas 03, 05\n",
    "( Dashboard: 2 Linhas )\n",
    "\n",
    "10. Faça um gráfico com o tamanho dos pontos sendo igual ao tamanho da sala de estar."
   ]
  }
 ],
 "metadata": {
  "kernelspec": {
   "display_name": "Python 3.9.2 ('pylab-env': venv)",
   "language": "python",
   "name": "python3"
  },
  "language_info": {
   "codemirror_mode": {
    "name": "ipython",
    "version": 3
   },
   "file_extension": ".py",
   "mimetype": "text/x-python",
   "name": "python",
   "nbconvert_exporter": "python",
   "pygments_lexer": "ipython3",
   "version": "3.9.2 (default, Feb 28 2021, 17:03:44) \n[GCC 10.2.1 20210110]"
  },
  "orig_nbformat": 4,
  "vscode": {
   "interpreter": {
    "hash": "bba2146f8efe6fb834caf575ce15b2ba1d9d995a97ee4586b6df2560c421d970"
   }
  }
 },
 "nbformat": 4,
 "nbformat_minor": 2
}
