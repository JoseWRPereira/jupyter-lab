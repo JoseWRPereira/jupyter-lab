{
 "cells": [
  {
   "attachments": {},
   "cell_type": "markdown",
   "metadata": {},
   "source": [
    "# Curso de Python do Zero ao DS\n",
    "## Profº Meigarom\n",
    "### Canal: Seja um Data Scientist\n"
   ]
  },
  {
   "attachments": {},
   "cell_type": "markdown",
   "metadata": {},
   "source": [
    "## Agenda\n",
    "\n",
    "* 1.0 - O Problema do negócio\n",
    "  * 1.1 - A Empresa: House Rocket\n",
    "  * 1.2 - As perguntas do contratante (CEO)\n",
    "* 2.0 - Planejamento da solução\n",
    "  * 2.1 - Planejamento do produto final\n",
    "  * 2.2 - Planejamento das ferramentas\n",
    "  * 2.3 - Planejamento do processo\n",
    "* 3.0 - Solução\n",
    "* 4.0 - Entrega"
   ]
  },
  {
   "attachments": {},
   "cell_type": "markdown",
   "metadata": {},
   "source": [
    "# 1.0 - O Problema do negócio\n",
    "\n",
    "## 1.1 - A Empresa: House Rocket\n",
    "* O que faz? \n",
    "    * Plataforma de compras e vendas de imóveis.\n",
    "* Qual é o problema? \n",
    "    * O CEO da empresa gostaria de maximizar os lucros encontrando bons negócios.\n",
    "* Qual é a principal estratégia?\n",
    "    * Fontes externas para encontrar bons negócios.\n",
    "\n",
    "## 1.2 - As perguntas do contratante (CEO):\n",
    "\n"
   ]
  }
 ],
 "metadata": {
  "kernelspec": {
   "display_name": "Python 3.9.2 ('pylab-env': venv)",
   "language": "python",
   "name": "python3"
  },
  "language_info": {
   "codemirror_mode": {
    "name": "ipython",
    "version": 3
   },
   "file_extension": ".py",
   "mimetype": "text/x-python",
   "name": "python",
   "nbconvert_exporter": "python",
   "pygments_lexer": "ipython3",
   "version": "3.9.2"
  },
  "orig_nbformat": 4,
  "vscode": {
   "interpreter": {
    "hash": "bba2146f8efe6fb834caf575ce15b2ba1d9d995a97ee4586b6df2560c421d970"
   }
  }
 },
 "nbformat": 4,
 "nbformat_minor": 2
}
