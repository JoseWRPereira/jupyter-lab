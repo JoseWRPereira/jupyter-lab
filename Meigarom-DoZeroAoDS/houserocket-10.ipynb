{
 "cells": [
  {
   "attachments": {},
   "cell_type": "markdown",
   "metadata": {},
   "source": [
    "# Curso de Python do Zero ao DS - Meigarom - Seja um Data Scientist\n"
   ]
  },
  {
   "attachments": {},
   "cell_type": "markdown",
   "metadata": {},
   "source": [
    "## Agenda\n",
    "\n",
    "* 1.0 - O Problema do negócio\n",
    "  * 1.1 - A Empresa: House Rocket\n",
    "  * 1.2 - As perguntas do contratante (CEO)\n",
    "* 2.0 - Planejamento da solução\n",
    "  * 2.1 - Planejamento do produto final\n",
    "  * 2.2 - Planejamento das ferramentas\n",
    "  * 2.3 - Planejamento do processo\n",
    "* 3.0 - Comandos para resolver o problema\n",
    "  * 3.1 Analogia Produção de bolo x Produção de programa\n",
    "  * 3.2 Tradução de Comandos para a linguagem utilizada (Python)\n",
    "* 4.0 - Exercício"
   ]
  },
  {
   "attachments": {},
   "cell_type": "markdown",
   "metadata": {},
   "source": [
    "# 1.0 - O Problema do negócio\n",
    "\n",
    "## 1.1 - A Empresa: House Rocket\n",
    "* O que faz? \n",
    "    * Plataforma de compras e vendas de imóveis.\n",
    "* Qual é o problema? \n",
    "    * O CEO da empresa gostaria de maximizar os lucros encontrando bons negócios.\n",
    "* Qual é a principal estratégia?\n",
    "    * Fontes externas para encontrar bons negócios.\n",
    "\n",
    "## 1.2 - As perguntas do contratante (CEO):\n",
    "1. Quantas casas estão disponíveis para compra?\n",
    "2. Quantos atributos as casa possuem? ( nº de quartos, nº de garagens, m², ... )\n",
    "3. Quais são os atributos?\n",
    "4. Qual a casa mais cara do portfólio ( casa com maior valor )?\n",
    "5. Qual a casa com o maior número de quartos?\n"
   ]
  },
  {
   "attachments": {},
   "cell_type": "markdown",
   "metadata": {},
   "source": [
    "# 2.0 - Planejamento da solução\n",
    "\n",
    "## 2.1 - Planejamento do produto final\n",
    "\n",
    "* O que eu vou entregar? ( Planilha, Texto, Email, Modelos de ML, ... )\n",
    "    * R: Texto com as respostas.\n",
    "* Como vai ser a entrega?\n",
    "    * R: Perguntas | Respostas\n",
    "    * Exemplo:\n",
    "        1. Quantas casas estão disponíveis para compra?\n",
    "        * 2300 imóveis disponíveis para compra\n",
    "\n",
    "## 2.2 - Planejamento das ferramentas\n",
    " \n",
    "Quais ferramentas usar?\n",
    "* Excel\n",
    "    - Fácil de usar;\n",
    "    - Barato;\n",
    "    - Muito usado pelos times não técnicos;\n",
    "    - Poder de processamento limitado ( ~1 Milhão de células ).\n",
    "* Linguagem de programação\n",
    "    - Desenvolida para criar software.\n",
    "    - Processar e Manipular -> *Insights*;\n",
    "    - Escalável;\n",
    "    - Modularização.\n",
    "## 2.3 - Planejamento do processo\n",
    "\n",
    "* Onde está a informação? ( Excel, BD, API, manual )\n",
    "    * R: https://www.kaggle.com/harlfoxem/housesalesprediction\n",
    "\n",
    "* Como coletar essas informações? ( SQL, Python, Streamlit, ... )\n",
    "    * R: Download ( Apertar o botão )\n",
    "\n",
    "* Responder as perguntas?\n",
    "\n",
    "|# | Pergunta | Resposta |\n",
    "|:--:|:-- |:--|\n",
    "|1| Quantas casas estão disponíveis para compra? | Contar o número de linhas do conjunto de dados|\n",
    "|2| Quantos atributos as casas possuem? | Contar o número de colunas do conjunto de dados|\n",
    "|3| Quais são os atributos das casas? | Mostrar o nome das colunas ( automática )|\n",
    "|4| Qual a casa mais cara ( casa com o maior valor de venda )? | Ordenar as linhas pela coluna de preco ( atributos )|\n",
    "|5| Qual a casa com o maior número de quartos? | Contar o número de linhas pela coluna numero de quartos ( atributo )|\n",
    "|6| Qual a soma total de quartos do conjunto de dados? | Somar o atributo 'Qtd de quartos' para todos os imóveis|\n",
    "|7| Quantas casas possuem 2 banheiros? | Filtrar somente imóveis com 2 banheiros e somar a quantidade de imóveis listados|\n",
    "|8| Qual o preço médio de todas as casas no conjunto de dados? | Somar o atributo 'Preço' de todos os imóveis e dividir pela quantidade de imóveis (1)|\n",
    "|9| Qual o preço médio de casas com 2 banheiros? | Item (7) Filtrar imóveis com 2 banheiros e aplicar a média no atributo 'Preço'|\n",
    "|10| Qual o preço mínimo entre as casas com 3 quartos? | Filtrar imóveis com 3 quartos e ordenar de forma crescente, o primeiro valor é o preço mínimo|\n",
    "|11| Quantas casas possuem mais de 300 m² na sala de estar? | Filtrar pelo atriburo 'metro_quadrado_sala_de_estar' imóveis com tamanho superior a 300 m², contar itens listados|\n",
    "|12| Quantas casas tem mais de 2 andares? | Filtrar pelo atriburo 'Quantidade_de_andares' os imóveis com valor >= 2, somar itens listados|\n",
    "|13| Quantas casas tem vista para o mar? | Filtrar pelo atributo 'Vista_mar' e somar itens listados|\n",
    "|14| Das casas com vista para o mar, quantas tem 3 quartos? | Com o filtro da Pergunta (13), filtrar pelo atributo 'Qtd_quartos' e somar itens listados|\n",
    "|15| Das casas com mais de 300 m² de sala de estar, quantas tem mais de 2 banheiros? | Com o filtro da Pergunta(11), filtrar o atributo 'Qtd_banheiros' >= 2 e somar itens listados|"
   ]
  },
  {
   "attachments": {},
   "cell_type": "markdown",
   "metadata": {},
   "source": [
    "# 3.0 - Comandos para resolver o problema\n",
    "\n",
    "## 3.1 Analogia Produção de bolo x Produção de programa\n",
    "\n",
    "### Produção de bolo\n",
    "1. Livro de Receita **Organiza** Receita.\n",
    "2. Receita **Replica** Modo de Preparo.\n",
    "3. Modo de Preparo **Manipula** Ingredientes.\n",
    "\n",
    "### Produção de programa\n",
    "1. Biblioteca **Organiza** Funções.\n",
    "2. Funções **Replica** Comandos.\n",
    "3. Comandos **Manipula** Variáveis.\n",
    "\n",
    "## 3.2 Tradução de Comandos para a linguagem utilizada (Python)\n",
    "1. Contar o número de linhas do conjunto de dados;\n",
    "2. Contar o número de colunas do conjunto de dados;\n",
    "3. Mostrar o nome das colunas ( automática );\n",
    "4. Ordenar as linhas pela coluna de preço ( atributos );\n",
    "5. Ordenar as linhas pela coluna de número de quartos ( atributos ).\n",
    "6. ...\n"
   ]
  }
 ],
 "metadata": {
  "kernelspec": {
   "display_name": "Python 3.9.2 ('pylab-env': venv)",
   "language": "python",
   "name": "python3"
  },
  "language_info": {
   "codemirror_mode": {
    "name": "ipython",
    "version": 3
   },
   "file_extension": ".py",
   "mimetype": "text/x-python",
   "name": "python",
   "nbconvert_exporter": "python",
   "pygments_lexer": "ipython3",
   "version": "3.9.2 (default, Feb 28 2021, 17:03:44) \n[GCC 10.2.1 20210110]"
  },
  "orig_nbformat": 4,
  "vscode": {
   "interpreter": {
    "hash": "bba2146f8efe6fb834caf575ce15b2ba1d9d995a97ee4586b6df2560c421d970"
   }
  }
 },
 "nbformat": 4,
 "nbformat_minor": 2
}
