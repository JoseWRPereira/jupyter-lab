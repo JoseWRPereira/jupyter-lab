{
 "cells": [
  {
   "attachments": {},
   "cell_type": "markdown",
   "metadata": {},
   "source": [
    "# Curso de Python do Zero ao DS - Meigarom - Seja um Data Scientist\n"
   ]
  },
  {
   "attachments": {},
   "cell_type": "markdown",
   "metadata": {},
   "source": [
    "## Agenda\n",
    "\n",
    "* 1.0 - O Problema do negócio\n",
    "  * 1.1 - A Empresa: House Rocket\n",
    "  * 1.2 - As perguntas do contratante (CEO)\n",
    "* 2.0 - Planejamento da solução\n",
    "  * 2.1 - Planejamento do produto final\n",
    "  * 2.2 - Planejamento das ferramentas\n",
    "  * 2.3 - Planejamento do processo\n",
    "* 3.0 - Comandos para resolver o problema\n",
    "  * 3.1 Analogia Produção de bolo x Produção de programa\n",
    "  * 3.2 Tradução de Comandos para a linguagem utilizada (Python)\n",
    "* 4.0 - Solução\n",
    "* 5.0 - Entrega"
   ]
  },
  {
   "attachments": {},
   "cell_type": "markdown",
   "metadata": {},
   "source": [
    "# 1.0 - O Problema do negócio\n",
    "\n",
    "## 1.1 - A Empresa: House Rocket\n",
    "* O que faz? \n",
    "    * Plataforma de compras e vendas de imóveis.\n",
    "* Qual é o problema? \n",
    "    * O CEO da empresa gostaria de maximizar os lucros encontrando bons negócios.\n",
    "* Qual é a principal estratégia?\n",
    "    * Fontes externas para encontrar bons negócios.\n",
    "\n",
    "## 1.2 - As perguntas do contratante (CEO):\n",
    "1. Quantas casas estão disponíveis para compra?\n",
    "2. Quantos atributos as casa possuem? ( nº de quartos, nº de garagens, m², ... )\n",
    "3. Quais são os atributos?\n",
    "4. Qual a casa mais cara do portfólio ( casa com maior valor )?\n",
    "5. Qual a casa com o maior número de quartos?\n"
   ]
  },
  {
   "attachments": {},
   "cell_type": "markdown",
   "metadata": {},
   "source": [
    "# 2.0 - Planejamento da solução\n",
    "\n",
    "## 2.1 - Planejamento do produto final\n",
    "\n",
    "* O que eu vou entregar? ( Planilha, Texto, Email, Modelos de ML, ... )\n",
    "    * R: Texto com as respostas.\n",
    "* Como vai ser a entrega?\n",
    "    * R: Perguntas | Respostas\n",
    "    * Exemplo:\n",
    "        1. Quantas casas estão disponíveis para compra?\n",
    "        * 2300 imóveis disponíveis para compra\n",
    "\n",
    "## 2.2 - Planejamento das ferramentas\n",
    " \n",
    "Quais ferramentas usar?\n",
    "* Excel\n",
    "    - Fácil de usar;\n",
    "    - Barato;\n",
    "    - Muito usado pelos times não técnicos;\n",
    "    - Poder de processamento limitado ( ~1 Milhão de células ).\n",
    "* Linguagem de programação\n",
    "    - Desenvolida para criar software.\n",
    "    - Processar e Manipular -> *Insights*;\n",
    "    - Escalável;\n",
    "    - Modularização.\n",
    "## 2.3 - Planejamento do processo\n",
    "\n",
    "### 2.3.1 - Perguntas do planejamento\n",
    "\n",
    "| #  | Pergunta | Resposta |\n",
    "|:--:|:-- |:-- |\n",
    "| 1  | Onde está a informação? ( Excel, BD, API, manual ) | [Kaggle-HouseSalesPrediction](https://www.kaggle.com/harlfoxem/housesalesprediction)|\n",
    "| 2  | Como coletar essas informações? (SQL, Python, Streamlit, ...) | Download |\n",
    "\n",
    "\n",
    "### 2.3.2 - Responder as perguntas do contratante (CEO)\n",
    "\n",
    "|# | Pergunta | Resposta |\n",
    "|:--:|:-- |:--|\n",
    "|1| Quantas casas estão disponíveis para compra? | Contar o número de linhas do conjunto de dados|\n",
    "|2| Quantos atributos as casas possuem? | Contar o número de colunas do conjunto de dados|\n",
    "|3| Quais são os atributos das casas? | Mostrar o nome das colunas ( automática )|\n",
    "|4| Qual a casa mais cara ( casa com o maior valor de venda )? | Ordenar as linhas pela coluna de preco ( atributos )|\n",
    "|5| Qual a casa com o maior número de quartos? | Filtrar pelo atributo 'Numero_de_quartos' de forma decrescente |\n",
    "|6| Qual a soma total de quartos do conjunto de dados? | Somar o atributo 'Qtd de quartos' para todos os imóveis|\n",
    "|7| Quantas casas possuem 2 banheiros? | Filtrar somente imóveis com 2 banheiros e somar a quantidade de imóveis listados|\n",
    "|8| Qual o preço médio de todas as casas no conjunto de dados? | Somar o atributo 'Preço' de todos os imóveis e dividir pela quantidade de imóveis (1)|\n",
    "|9| Qual o preço médio de casas com 2 banheiros? | Item (7) Filtrar imóveis com 2 banheiros e aplicar a média no atributo 'Preço'|\n",
    "|10| Qual o preço mínimo entre as casas com 3 quartos? | Filtrar imóveis com 3 quartos e ordenar de forma crescente, o primeiro valor é o preço mínimo|\n",
    "|11| Quantas casas possuem mais de 300 m² na sala de estar? | Filtrar pelo atriburo 'metro_quadrado_sala_de_estar' imóveis com tamanho superior a 300 m², contar itens listados|\n",
    "|12| Quantas casas tem mais de 2 andares? | Filtrar pelo atriburo 'Quantidade_de_andares' os imóveis com valor >= 2, somar itens listados|\n",
    "|13| Quantas casas tem vista para o mar? | Filtrar pelo atributo 'Vista_mar' e somar itens listados|\n",
    "|14| Das casas com vista para o mar, quantas tem 3 quartos? | Com o filtro da Pergunta (13), filtrar pelo atributo 'Qtd_quartos' e somar itens listados|\n",
    "|15| Das casas com mais de 300 m² de sala de estar, quantas tem mais de 2 banheiros? | Com o filtro da Pergunta(11), filtrar o atributo 'Qtd_banheiros' >= 2 e somar itens listados|"
   ]
  },
  {
   "attachments": {},
   "cell_type": "markdown",
   "metadata": {},
   "source": [
    "# 3.0 - Comandos para resolver o problema\n",
    "\n",
    "## 3.1 Analogia Produção de bolo x Produção de programa\n",
    "\n",
    "### Produção de bolo\n",
    "1. Livro de Receita **Organiza** Receita.\n",
    "2. Receita **Replica** Modo de Preparo.\n",
    "3. Modo de Preparo **Manipula** Ingredientes.\n",
    "\n",
    "### Produção de programa\n",
    "1. Biblioteca **Organiza** Funções.\n",
    "2. Funções **Replica** Comandos.\n",
    "3. Comandos **Manipula** Variáveis.\n",
    "\n",
    "## 3.2 Tradução de Comandos para a linguagem utilizada (Python)\n",
    "\n",
    "|# | Pergunta | Resposta | Comando (Python) | \n",
    "|:--:|:-- |:--|:--|\n",
    "|1| Quantas casas estão disponíveis para compra? | Contar o número de linhas do conjunto de dados| dados.shape |\n",
    "|2| Quantos atributos as casas possuem? | Contar o número de colunas do conjunto de dados| dados.shape | \n",
    "|3| Quais são os atributos das casas? | Mostrar o nome das colunas ( automática )| dados.columns |\n",
    "|4| Qual a casa mais cara ( casa com o maior valor de venda )? | Ordenar as linhas pela coluna de preco ( atributos )| dados[['id','price']].sort_values('price', ascending=False) |\n",
    "|5| Qual a casa com o maior número de quartos? | Filtrar pelo atributo 'Numero_de_quartos' de forma decrescente | dados[['id','bedrooms']].sort_values('bedrooms', ascending=False) |\n",
    "|6| Qual a soma total de quartos do conjunto de dados? | Somar o atributo 'Qtd de quartos' para todos os imóveis| dados[['bedrooms']].sum() |\n",
    "|7| Quantas casas possuem 2 banheiros? | Filtrar somente imóveis com 2 banheiros e somar a quantidade de imóveis listados| dados[['bathrooms']].loc[dados.bathrooms==2].count() |\n",
    "|8| Qual o preço médio de todas as casas no conjunto de dados? | Somar o atributo 'Preço' de todos os imóveis e dividir pela quantidade de imóveis (1)| dados[['price']].mean() |\n",
    "|9| Qual o preço médio de casas com 2 banheiros? | Item (7) Filtrar imóveis com 2 banheiros e aplicar a média no atributo 'Preço'| dados[['price']].loc[dados.bathrooms==2].mean() |\n",
    "|10| Qual o preço mínimo entre as casas com 3 quartos? | Filtrar imóveis com 3 quartos e ordenar de forma crescente, o primeiro valor é o preço mínimo| dados[['id','price']].loc[dados.bedrooms==3].min() |\n",
    "|11| Quantas casas possuem mais de 300 m² na sala de estar? | Filtrar pelo atriburo 'metro_quadrado_sala_de_estar' imóveis com tamanho superior a 300 m², contar itens listados| dados[['id','sqft_living','price']].loc[dados.sqft_living>3229.17].count() |\n",
    "|12| Quantas casas tem mais de 2 andares? | Filtrar pelo atriburo 'Quantidade_de_andares' os imóveis com valor >= 2, somar itens listados| dados[['floors']].loc[dados.floors>2].count() |\n",
    "|13| Quantas casas tem vista para o mar? | Filtrar pelo atributo 'Vista_mar' e somar itens listados| dados[['waterfront']].loc[dados.waterfront==1].count() |\n",
    "|14| Das casas com vista para o mar, quantas tem 3 quartos? | Com o filtro da Pergunta (13), filtrar pelo atributo 'Qtd_quartos' e somar itens listados| dados[['waterfront']].loc[dados.waterfront==1].loc[dados.bedrooms==3].count() |\n",
    "|15| Das casas com mais de 300 m² de sala de estar, quantas tem mais de 2 banheiros? | Com o filtro da Pergunta(11), filtrar o atributo 'Qtd_banheiros' >= 2 e somar itens listados| dados[['sqft_living']].loc[dados.sqft_living>3229.17].loc[dados.bathrooms>2].count() |\n"
   ]
  },
  {
   "attachments": {},
   "cell_type": "markdown",
   "metadata": {},
   "source": [
    "# 4.0 - Solução "
   ]
  },
  {
   "cell_type": "code",
   "execution_count": 1,
   "metadata": {},
   "outputs": [],
   "source": [
    "# Importando bibliotecas\n",
    "import pandas as pd"
   ]
  },
  {
   "cell_type": "code",
   "execution_count": 23,
   "metadata": {},
   "outputs": [],
   "source": [
    "# Carregando arquivo de dados\n",
    "dados = pd.read_csv('datasets/kc_house_data.csv')"
   ]
  },
  {
   "cell_type": "code",
   "execution_count": 3,
   "metadata": {},
   "outputs": [
    {
     "data": {
      "text/html": [
       "<div>\n",
       "<style scoped>\n",
       "    .dataframe tbody tr th:only-of-type {\n",
       "        vertical-align: middle;\n",
       "    }\n",
       "\n",
       "    .dataframe tbody tr th {\n",
       "        vertical-align: top;\n",
       "    }\n",
       "\n",
       "    .dataframe thead th {\n",
       "        text-align: right;\n",
       "    }\n",
       "</style>\n",
       "<table border=\"1\" class=\"dataframe\">\n",
       "  <thead>\n",
       "    <tr style=\"text-align: right;\">\n",
       "      <th></th>\n",
       "      <th>id</th>\n",
       "      <th>date</th>\n",
       "      <th>price</th>\n",
       "      <th>bedrooms</th>\n",
       "      <th>bathrooms</th>\n",
       "      <th>sqft_living</th>\n",
       "      <th>sqft_lot</th>\n",
       "      <th>floors</th>\n",
       "      <th>waterfront</th>\n",
       "      <th>view</th>\n",
       "      <th>...</th>\n",
       "      <th>grade</th>\n",
       "      <th>sqft_above</th>\n",
       "      <th>sqft_basement</th>\n",
       "      <th>yr_built</th>\n",
       "      <th>yr_renovated</th>\n",
       "      <th>zipcode</th>\n",
       "      <th>lat</th>\n",
       "      <th>long</th>\n",
       "      <th>sqft_living15</th>\n",
       "      <th>sqft_lot15</th>\n",
       "    </tr>\n",
       "  </thead>\n",
       "  <tbody>\n",
       "    <tr>\n",
       "      <th>0</th>\n",
       "      <td>7129300520</td>\n",
       "      <td>20141013T000000</td>\n",
       "      <td>221900.0</td>\n",
       "      <td>3</td>\n",
       "      <td>1.00</td>\n",
       "      <td>1180</td>\n",
       "      <td>5650</td>\n",
       "      <td>1.0</td>\n",
       "      <td>0</td>\n",
       "      <td>0</td>\n",
       "      <td>...</td>\n",
       "      <td>7</td>\n",
       "      <td>1180</td>\n",
       "      <td>0</td>\n",
       "      <td>1955</td>\n",
       "      <td>0</td>\n",
       "      <td>98178</td>\n",
       "      <td>47.5112</td>\n",
       "      <td>-122.257</td>\n",
       "      <td>1340</td>\n",
       "      <td>5650</td>\n",
       "    </tr>\n",
       "    <tr>\n",
       "      <th>1</th>\n",
       "      <td>6414100192</td>\n",
       "      <td>20141209T000000</td>\n",
       "      <td>538000.0</td>\n",
       "      <td>3</td>\n",
       "      <td>2.25</td>\n",
       "      <td>2570</td>\n",
       "      <td>7242</td>\n",
       "      <td>2.0</td>\n",
       "      <td>0</td>\n",
       "      <td>0</td>\n",
       "      <td>...</td>\n",
       "      <td>7</td>\n",
       "      <td>2170</td>\n",
       "      <td>400</td>\n",
       "      <td>1951</td>\n",
       "      <td>1991</td>\n",
       "      <td>98125</td>\n",
       "      <td>47.7210</td>\n",
       "      <td>-122.319</td>\n",
       "      <td>1690</td>\n",
       "      <td>7639</td>\n",
       "    </tr>\n",
       "    <tr>\n",
       "      <th>2</th>\n",
       "      <td>5631500400</td>\n",
       "      <td>20150225T000000</td>\n",
       "      <td>180000.0</td>\n",
       "      <td>2</td>\n",
       "      <td>1.00</td>\n",
       "      <td>770</td>\n",
       "      <td>10000</td>\n",
       "      <td>1.0</td>\n",
       "      <td>0</td>\n",
       "      <td>0</td>\n",
       "      <td>...</td>\n",
       "      <td>6</td>\n",
       "      <td>770</td>\n",
       "      <td>0</td>\n",
       "      <td>1933</td>\n",
       "      <td>0</td>\n",
       "      <td>98028</td>\n",
       "      <td>47.7379</td>\n",
       "      <td>-122.233</td>\n",
       "      <td>2720</td>\n",
       "      <td>8062</td>\n",
       "    </tr>\n",
       "    <tr>\n",
       "      <th>3</th>\n",
       "      <td>2487200875</td>\n",
       "      <td>20141209T000000</td>\n",
       "      <td>604000.0</td>\n",
       "      <td>4</td>\n",
       "      <td>3.00</td>\n",
       "      <td>1960</td>\n",
       "      <td>5000</td>\n",
       "      <td>1.0</td>\n",
       "      <td>0</td>\n",
       "      <td>0</td>\n",
       "      <td>...</td>\n",
       "      <td>7</td>\n",
       "      <td>1050</td>\n",
       "      <td>910</td>\n",
       "      <td>1965</td>\n",
       "      <td>0</td>\n",
       "      <td>98136</td>\n",
       "      <td>47.5208</td>\n",
       "      <td>-122.393</td>\n",
       "      <td>1360</td>\n",
       "      <td>5000</td>\n",
       "    </tr>\n",
       "    <tr>\n",
       "      <th>4</th>\n",
       "      <td>1954400510</td>\n",
       "      <td>20150218T000000</td>\n",
       "      <td>510000.0</td>\n",
       "      <td>3</td>\n",
       "      <td>2.00</td>\n",
       "      <td>1680</td>\n",
       "      <td>8080</td>\n",
       "      <td>1.0</td>\n",
       "      <td>0</td>\n",
       "      <td>0</td>\n",
       "      <td>...</td>\n",
       "      <td>8</td>\n",
       "      <td>1680</td>\n",
       "      <td>0</td>\n",
       "      <td>1987</td>\n",
       "      <td>0</td>\n",
       "      <td>98074</td>\n",
       "      <td>47.6168</td>\n",
       "      <td>-122.045</td>\n",
       "      <td>1800</td>\n",
       "      <td>7503</td>\n",
       "    </tr>\n",
       "  </tbody>\n",
       "</table>\n",
       "<p>5 rows × 21 columns</p>\n",
       "</div>"
      ],
      "text/plain": [
       "           id             date     price  bedrooms  bathrooms  sqft_living  \\\n",
       "0  7129300520  20141013T000000  221900.0         3       1.00         1180   \n",
       "1  6414100192  20141209T000000  538000.0         3       2.25         2570   \n",
       "2  5631500400  20150225T000000  180000.0         2       1.00          770   \n",
       "3  2487200875  20141209T000000  604000.0         4       3.00         1960   \n",
       "4  1954400510  20150218T000000  510000.0         3       2.00         1680   \n",
       "\n",
       "   sqft_lot  floors  waterfront  view  ...  grade  sqft_above  sqft_basement  \\\n",
       "0      5650     1.0           0     0  ...      7        1180              0   \n",
       "1      7242     2.0           0     0  ...      7        2170            400   \n",
       "2     10000     1.0           0     0  ...      6         770              0   \n",
       "3      5000     1.0           0     0  ...      7        1050            910   \n",
       "4      8080     1.0           0     0  ...      8        1680              0   \n",
       "\n",
       "   yr_built  yr_renovated  zipcode      lat     long  sqft_living15  \\\n",
       "0      1955             0    98178  47.5112 -122.257           1340   \n",
       "1      1951          1991    98125  47.7210 -122.319           1690   \n",
       "2      1933             0    98028  47.7379 -122.233           2720   \n",
       "3      1965             0    98136  47.5208 -122.393           1360   \n",
       "4      1987             0    98074  47.6168 -122.045           1800   \n",
       "\n",
       "   sqft_lot15  \n",
       "0        5650  \n",
       "1        7639  \n",
       "2        8062  \n",
       "3        5000  \n",
       "4        7503  \n",
       "\n",
       "[5 rows x 21 columns]"
      ]
     },
     "execution_count": 3,
     "metadata": {},
     "output_type": "execute_result"
    }
   ],
   "source": [
    "dados.head()"
   ]
  },
  {
   "cell_type": "code",
   "execution_count": 6,
   "metadata": {},
   "outputs": [
    {
     "data": {
      "text/plain": [
       "(21613, 21)"
      ]
     },
     "execution_count": 6,
     "metadata": {},
     "output_type": "execute_result"
    }
   ],
   "source": [
    "# P1: Quantas casas estão disponíveis para compra?\n",
    "# Comando:  Contar o número de linhas do conjunto de dados\n",
    "\n",
    "# P2: Quantos atributos as casas possuem?\n",
    "# Comando: Contar o número de colunas do conjunto de dados\n",
    "\n",
    "# Mostra o número de (linhas, colunas)\n",
    "dados.shape\n",
    "\n",
    "# R1:   Estão disponíveis 21613 casas para venda.\n",
    "# R2:   As casas possuem 19 atributos. \n",
    "#       Total de colunas descontados 'id' e 'date'.\n"
   ]
  },
  {
   "cell_type": "code",
   "execution_count": 7,
   "metadata": {},
   "outputs": [
    {
     "data": {
      "text/plain": [
       "Index(['id', 'date', 'price', 'bedrooms', 'bathrooms', 'sqft_living',\n",
       "       'sqft_lot', 'floors', 'waterfront', 'view', 'condition', 'grade',\n",
       "       'sqft_above', 'sqft_basement', 'yr_built', 'yr_renovated', 'zipcode',\n",
       "       'lat', 'long', 'sqft_living15', 'sqft_lot15'],\n",
       "      dtype='object')"
      ]
     },
     "execution_count": 7,
     "metadata": {},
     "output_type": "execute_result"
    }
   ],
   "source": [
    "# P3: Quais são os atributos das casas?\n",
    "# Comando: Mostrar o nome das colunas ( automática )\n",
    "\n",
    "dados.columns\n",
    "\n",
    "# R3:   Os atributos das casas são:\n",
    "#       Preço, Quartos, Banheiros, Área Construída, \n",
    "#       Área do terreno, Pavimentos, Beira-mar, Vista, \n",
    "#       Condição, Nota, Subsolo, Área de porão,\n",
    "#       Ano de construção, Ano de reforma,\n",
    "#       Código postal, Latitude, Longitude,\n",
    "#       Área construída dos 15 vizinhos mais próximos, \n",
    "#       Área do terreno dos 15 vizinhos mais próximos.\n"
   ]
  },
  {
   "cell_type": "code",
   "execution_count": 11,
   "metadata": {},
   "outputs": [
    {
     "data": {
      "text/html": [
       "<div>\n",
       "<style scoped>\n",
       "    .dataframe tbody tr th:only-of-type {\n",
       "        vertical-align: middle;\n",
       "    }\n",
       "\n",
       "    .dataframe tbody tr th {\n",
       "        vertical-align: top;\n",
       "    }\n",
       "\n",
       "    .dataframe thead th {\n",
       "        text-align: right;\n",
       "    }\n",
       "</style>\n",
       "<table border=\"1\" class=\"dataframe\">\n",
       "  <thead>\n",
       "    <tr style=\"text-align: right;\">\n",
       "      <th></th>\n",
       "      <th>id</th>\n",
       "      <th>price</th>\n",
       "    </tr>\n",
       "  </thead>\n",
       "  <tbody>\n",
       "    <tr>\n",
       "      <th>7252</th>\n",
       "      <td>6762700020</td>\n",
       "      <td>7700000.0</td>\n",
       "    </tr>\n",
       "    <tr>\n",
       "      <th>3914</th>\n",
       "      <td>9808700762</td>\n",
       "      <td>7062500.0</td>\n",
       "    </tr>\n",
       "    <tr>\n",
       "      <th>9254</th>\n",
       "      <td>9208900037</td>\n",
       "      <td>6885000.0</td>\n",
       "    </tr>\n",
       "    <tr>\n",
       "      <th>4411</th>\n",
       "      <td>2470100110</td>\n",
       "      <td>5570000.0</td>\n",
       "    </tr>\n",
       "    <tr>\n",
       "      <th>1448</th>\n",
       "      <td>8907500070</td>\n",
       "      <td>5350000.0</td>\n",
       "    </tr>\n",
       "    <tr>\n",
       "      <th>...</th>\n",
       "      <td>...</td>\n",
       "      <td>...</td>\n",
       "    </tr>\n",
       "    <tr>\n",
       "      <th>8274</th>\n",
       "      <td>3883800011</td>\n",
       "      <td>82000.0</td>\n",
       "    </tr>\n",
       "    <tr>\n",
       "      <th>16198</th>\n",
       "      <td>3028200080</td>\n",
       "      <td>81000.0</td>\n",
       "    </tr>\n",
       "    <tr>\n",
       "      <th>465</th>\n",
       "      <td>8658300340</td>\n",
       "      <td>80000.0</td>\n",
       "    </tr>\n",
       "    <tr>\n",
       "      <th>15293</th>\n",
       "      <td>40000362</td>\n",
       "      <td>78000.0</td>\n",
       "    </tr>\n",
       "    <tr>\n",
       "      <th>1149</th>\n",
       "      <td>3421079032</td>\n",
       "      <td>75000.0</td>\n",
       "    </tr>\n",
       "  </tbody>\n",
       "</table>\n",
       "<p>21613 rows × 2 columns</p>\n",
       "</div>"
      ],
      "text/plain": [
       "               id      price\n",
       "7252   6762700020  7700000.0\n",
       "3914   9808700762  7062500.0\n",
       "9254   9208900037  6885000.0\n",
       "4411   2470100110  5570000.0\n",
       "1448   8907500070  5350000.0\n",
       "...           ...        ...\n",
       "8274   3883800011    82000.0\n",
       "16198  3028200080    81000.0\n",
       "465    8658300340    80000.0\n",
       "15293    40000362    78000.0\n",
       "1149   3421079032    75000.0\n",
       "\n",
       "[21613 rows x 2 columns]"
      ]
     },
     "execution_count": 11,
     "metadata": {},
     "output_type": "execute_result"
    }
   ],
   "source": [
    "# P4: Qual a casa mais cara ( casa com o maior valor de venda )?\n",
    "# Comando: Ordenar as linhas pela coluna de preco ( atributos )\n",
    "\n",
    "dados[['id','price']].sort_values('price', ascending=False)\n",
    "\n",
    "# R4:   A casa mais cara possui a \n",
    "#       identificação '6762700020' e \n",
    "#       custa U$ 7700000.00 "
   ]
  },
  {
   "cell_type": "code",
   "execution_count": 14,
   "metadata": {},
   "outputs": [
    {
     "data": {
      "text/html": [
       "<div>\n",
       "<style scoped>\n",
       "    .dataframe tbody tr th:only-of-type {\n",
       "        vertical-align: middle;\n",
       "    }\n",
       "\n",
       "    .dataframe tbody tr th {\n",
       "        vertical-align: top;\n",
       "    }\n",
       "\n",
       "    .dataframe thead th {\n",
       "        text-align: right;\n",
       "    }\n",
       "</style>\n",
       "<table border=\"1\" class=\"dataframe\">\n",
       "  <thead>\n",
       "    <tr style=\"text-align: right;\">\n",
       "      <th></th>\n",
       "      <th>id</th>\n",
       "      <th>bedrooms</th>\n",
       "    </tr>\n",
       "  </thead>\n",
       "  <tbody>\n",
       "    <tr>\n",
       "      <th>15870</th>\n",
       "      <td>2402100895</td>\n",
       "      <td>33</td>\n",
       "    </tr>\n",
       "    <tr>\n",
       "      <th>8757</th>\n",
       "      <td>1773100755</td>\n",
       "      <td>11</td>\n",
       "    </tr>\n",
       "    <tr>\n",
       "      <th>15161</th>\n",
       "      <td>5566100170</td>\n",
       "      <td>10</td>\n",
       "    </tr>\n",
       "    <tr>\n",
       "      <th>13314</th>\n",
       "      <td>627300145</td>\n",
       "      <td>10</td>\n",
       "    </tr>\n",
       "    <tr>\n",
       "      <th>19254</th>\n",
       "      <td>8812401450</td>\n",
       "      <td>10</td>\n",
       "    </tr>\n",
       "    <tr>\n",
       "      <th>...</th>\n",
       "      <td>...</td>\n",
       "      <td>...</td>\n",
       "    </tr>\n",
       "    <tr>\n",
       "      <th>19452</th>\n",
       "      <td>3980300371</td>\n",
       "      <td>0</td>\n",
       "    </tr>\n",
       "    <tr>\n",
       "      <th>8484</th>\n",
       "      <td>2310060040</td>\n",
       "      <td>0</td>\n",
       "    </tr>\n",
       "    <tr>\n",
       "      <th>875</th>\n",
       "      <td>6306400140</td>\n",
       "      <td>0</td>\n",
       "    </tr>\n",
       "    <tr>\n",
       "      <th>8477</th>\n",
       "      <td>2569500210</td>\n",
       "      <td>0</td>\n",
       "    </tr>\n",
       "    <tr>\n",
       "      <th>9773</th>\n",
       "      <td>3374500520</td>\n",
       "      <td>0</td>\n",
       "    </tr>\n",
       "  </tbody>\n",
       "</table>\n",
       "<p>21613 rows × 2 columns</p>\n",
       "</div>"
      ],
      "text/plain": [
       "               id  bedrooms\n",
       "15870  2402100895        33\n",
       "8757   1773100755        11\n",
       "15161  5566100170        10\n",
       "13314   627300145        10\n",
       "19254  8812401450        10\n",
       "...           ...       ...\n",
       "19452  3980300371         0\n",
       "8484   2310060040         0\n",
       "875    6306400140         0\n",
       "8477   2569500210         0\n",
       "9773   3374500520         0\n",
       "\n",
       "[21613 rows x 2 columns]"
      ]
     },
     "execution_count": 14,
     "metadata": {},
     "output_type": "execute_result"
    }
   ],
   "source": [
    "# P5:   Qual a casa com o maior número de quartos? \n",
    "# Comando:  Filtrar pelo atributo 'Numero_de_quartos' de forma decrescente\n",
    "\n",
    "dados[['id','bedrooms']].sort_values('bedrooms', ascending=False)\n",
    "\n",
    "# R5:   O imóvel com o maior número de quartos é o de \n",
    "#       identificação 2402100895 com um total de \n",
    "#       33 quartos."
   ]
  },
  {
   "cell_type": "code",
   "execution_count": 18,
   "metadata": {},
   "outputs": [
    {
     "data": {
      "text/plain": [
       "bedrooms    72854\n",
       "dtype: int64"
      ]
     },
     "execution_count": 18,
     "metadata": {},
     "output_type": "execute_result"
    }
   ],
   "source": [
    "# P6: Qual a soma total de quartos do conjunto de dados?\n",
    "# Comando:  Somar o atributo 'Qtd de quartos' para todos os imóveis\n",
    "\n",
    "dados[['bedrooms']].sum()\n",
    "\n",
    "# R6:   A soma total de quartos para o conjunto de dados é de\n",
    "#       72854 quartos."
   ]
  },
  {
   "cell_type": "code",
   "execution_count": 29,
   "metadata": {},
   "outputs": [
    {
     "data": {
      "text/plain": [
       "bathrooms    1930\n",
       "dtype: int64"
      ]
     },
     "execution_count": 29,
     "metadata": {},
     "output_type": "execute_result"
    }
   ],
   "source": [
    "# P7: Quantas casas possuem 2 banheiros?\n",
    "# Comando: Filtrar somente imóveis com 2 banheiros e somar a quantidade de imóveis listados\n",
    "\n",
    "dados[['bathrooms']].loc[dados.bathrooms==2].count()\n",
    "\n",
    "# R7: A quantidade de imóveis com 2 banheiros é de 1930 unidades."
   ]
  },
  {
   "cell_type": "code",
   "execution_count": 30,
   "metadata": {},
   "outputs": [
    {
     "data": {
      "text/plain": [
       "price    540088.141767\n",
       "dtype: float64"
      ]
     },
     "execution_count": 30,
     "metadata": {},
     "output_type": "execute_result"
    }
   ],
   "source": [
    "# P8: Qual o preço médio de todas as casas no conjunto de dados?\n",
    "# Comando: Somar o atributo 'Preço' de todos os imóveis e dividir \n",
    "# pela quantidade de imóveis (1)\n",
    "\n",
    "dados[['price']].mean()\n",
    "\n",
    "# R8:   O preço médio de todos os imóveis do conjunto de dados \n",
    "#       é de U$ 540088.14"
   ]
  },
  {
   "cell_type": "code",
   "execution_count": 31,
   "metadata": {},
   "outputs": [
    {
     "data": {
      "text/plain": [
       "price    457889.718653\n",
       "dtype: float64"
      ]
     },
     "execution_count": 31,
     "metadata": {},
     "output_type": "execute_result"
    }
   ],
   "source": [
    "# P9:  Qual o preço médio de casas com 2 banheiros? \n",
    "# Comando: Item (7) Filtrar imóveis com 2 banheiros e aplicar a média no atributo 'Preço'\n",
    "\n",
    "dados[['price']].loc[dados.bathrooms==2].mean()\n",
    "\n",
    "# R9:   O preço médio de casas com 2 banheiros é de U$ 457889.72"
   ]
  },
  {
   "cell_type": "code",
   "execution_count": 35,
   "metadata": {},
   "outputs": [
    {
     "data": {
      "text/plain": [
       "id       1200021.0\n",
       "price      82000.0\n",
       "dtype: float64"
      ]
     },
     "execution_count": 35,
     "metadata": {},
     "output_type": "execute_result"
    }
   ],
   "source": [
    "# P10: Qual o preço mínimo entre as casas com 3 quartos?\n",
    "# Comando: Filtrar imóveis com 3 quartos e ordenar de forma crescente, o primeiro valor é o preço mínimo\n",
    "\n",
    "dados[['id','price']].loc[dados.bedrooms==3].min()\n",
    "\n",
    "# R10:  O menor preço de um imóvel com 3 quartos é de \n",
    "#       U$ 82000.00 para a unidade de id 1200021."
   ]
  },
  {
   "cell_type": "code",
   "execution_count": 42,
   "metadata": {},
   "outputs": [
    {
     "data": {
      "text/plain": [
       "id             2258\n",
       "sqft_living    2258\n",
       "price          2258\n",
       "dtype: int64"
      ]
     },
     "execution_count": 42,
     "metadata": {},
     "output_type": "execute_result"
    }
   ],
   "source": [
    "# P11: Quantas casas possuem mais de 300 m² na sala de estar?\n",
    "# Comando: Filtrar pelo atriburo 'metro_quadrado_sala_de_estar' imóveis com tamanho superior a 300 m², contar itens listados\n",
    "\n",
    "dados[['id','sqft_living','price']].loc[dados.sqft_living>3229.17].count()\n",
    "\n",
    "# R11:  Imóveis com mais de 300m² ou 3229,17 squared feet de \n",
    "#       área construída totalizam 2258 unidades."
   ]
  },
  {
   "cell_type": "code",
   "execution_count": 47,
   "metadata": {},
   "outputs": [
    {
     "data": {
      "text/plain": [
       "floors    782\n",
       "dtype: int64"
      ]
     },
     "execution_count": 47,
     "metadata": {},
     "output_type": "execute_result"
    }
   ],
   "source": [
    "# P12: Quantas casas tem mais de 2 andares? \n",
    "# Comando: Filtrar pelo atriburo 'Quantidade_de_andares' os imóveis com valor >= 2, somar itens listados\n",
    "\n",
    "dados[['floors']].loc[dados.floors>2].count()\n",
    "\n",
    "# R12:  O número de imóveis com mais do que dois pavimentos \n",
    "#       é de 782 unidades."
   ]
  },
  {
   "cell_type": "code",
   "execution_count": 50,
   "metadata": {},
   "outputs": [
    {
     "data": {
      "text/plain": [
       "waterfront    163\n",
       "dtype: int64"
      ]
     },
     "execution_count": 50,
     "metadata": {},
     "output_type": "execute_result"
    }
   ],
   "source": [
    "# P13: Quantas casas tem vista para o mar?\n",
    "# Comando: Filtrar pelo atributo 'Vista_mar' e somar itens listados\n",
    "\n",
    "dados[['waterfront']].loc[dados.waterfront==1].count()\n",
    "\n",
    "# R13: 163 imóveis com vista para o mar."
   ]
  },
  {
   "cell_type": "code",
   "execution_count": 55,
   "metadata": {},
   "outputs": [
    {
     "data": {
      "text/plain": [
       "waterfront    64\n",
       "dtype: int64"
      ]
     },
     "execution_count": 55,
     "metadata": {},
     "output_type": "execute_result"
    }
   ],
   "source": [
    "# P14: Das casas com vista para o mar, quantas tem 3 quartos?\n",
    "# Comando: Com o filtro da Pergunta (13), filtrar pelo atributo 'Qtd_quartos' e somar itens listados\n",
    "\n",
    "dados[['waterfront']].loc[dados.waterfront==1].loc[dados.bedrooms==3].count()\n",
    "\n",
    "# R14: Existem 64 imóveis com vista para o mar e 3 quartos."
   ]
  },
  {
   "cell_type": "code",
   "execution_count": 57,
   "metadata": {},
   "outputs": [
    {
     "data": {
      "text/plain": [
       "sqft_living    2201\n",
       "dtype: int64"
      ]
     },
     "execution_count": 57,
     "metadata": {},
     "output_type": "execute_result"
    }
   ],
   "source": [
    "# P15: Das casas com mais de 300 m² de sala de estar, quantas tem mais de 2 banheiros?\n",
    "# Comando: Com o filtro da Pergunta(11), filtrar o atributo 'Qtd_banheiros' >= 2 e somar itens listados\n",
    "\n",
    "dados[['sqft_living']].loc[dados.sqft_living>3229.17].loc[dados.bathrooms>2].count()\n",
    "\n",
    "# R15:  Existem 2201 imóveis com mais do que 300m² e mais do que 2 banheiros."
   ]
  },
  {
   "attachments": {},
   "cell_type": "markdown",
   "metadata": {},
   "source": [
    "# 5.0 - Entrega\n",
    "\n",
    "|# | Pergunta | Resposta | \n",
    "|:--:|:-- |:--|\n",
    "|1| Quantas casas estão disponíveis para compra? | 21613 |\n",
    "|2| Quantos atributos as casas possuem? | 19 |\n",
    "|3| Quais são os atributos das casas? | Preço, Quartos, Banheiros, Área Construída, Área do terreno, Pavimentos, Beira-mar, Vista, Condição, Nota, Subsolo, Área de porão, Ano de construção, Ano de reforma, Código postal, Latitude, Longitude, Área construída dos 15 vizinhos mais próximos, Área do terreno dos 15 vizinhos mais próximos |\n",
    "|4| Qual a casa mais cara ( casa com o maior valor de venda )? | Id:6762700020 Preço: U$ 7700000.00 |\n",
    "|5| Qual a casa com o maior número de quartos? | Id:2402100895 Quartos: 33 |\n",
    "|6| Qual a soma total de quartos do conjunto de dados? | 72854 |\n",
    "|7| Quantas casas possuem 2 banheiros? | 1930 |\n",
    "|8| Qual o preço médio de todas as casas no conjunto de dados? | U$ 540088.14 |\n",
    "|9| Qual o preço médio de casas com 2 banheiros? | U$ 457889.72 |\n",
    "|10| Qual o preço mínimo entre as casas com 3 quartos? | U$ 82000.00 |\n",
    "|11| Quantas casas possuem mais de 300 m² na sala de estar? | 2258 |\n",
    "|12| Quantas casas tem mais de 2 andares? | 782 |\n",
    "|13| Quantas casas tem vista para o mar? | 163 |\n",
    "|14| Das casas com vista para o mar, quantas tem 3 quartos? | 64 |\n",
    "|15| Das casas com mais de 300 m² de sala de estar, quantas tem mais de 2 banheiros? | 2201 |\n"
   ]
  }
 ],
 "metadata": {
  "kernelspec": {
   "display_name": "Python 3.9.2 ('pylab-env': venv)",
   "language": "python",
   "name": "python3"
  },
  "language_info": {
   "codemirror_mode": {
    "name": "ipython",
    "version": 3
   },
   "file_extension": ".py",
   "mimetype": "text/x-python",
   "name": "python",
   "nbconvert_exporter": "python",
   "pygments_lexer": "ipython3",
   "version": "3.9.2"
  },
  "orig_nbformat": 4,
  "vscode": {
   "interpreter": {
    "hash": "bba2146f8efe6fb834caf575ce15b2ba1d9d995a97ee4586b6df2560c421d970"
   }
  }
 },
 "nbformat": 4,
 "nbformat_minor": 2
}
