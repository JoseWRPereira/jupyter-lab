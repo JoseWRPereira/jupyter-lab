{
 "cells": [
  {
   "attachments": {},
   "cell_type": "markdown",
   "metadata": {},
   "source": [
    "# House Rocket 2.0"
   ]
  },
  {
   "attachments": {},
   "cell_type": "markdown",
   "metadata": {},
   "source": [
    "## Contexto\n",
    "\n",
    "### EMPRESA: \n",
    "House Rocket\n",
    "\n",
    "### MODELO DE NEGÓCIO: \n",
    "Compra casas com preço baixo e revendo com o preço mais alto.\n",
    "\n",
    "### QUAL É O DESAFIO: \n",
    "Encontrar bons negócios dentro do portfólio disponível, ou seja, encontrar casas com preço baixo, em ótima localização e\n",
    "que tenham um ótimo potencial de revenda por um preço mais alto."
   ]
  },
  {
   "attachments": {},
   "cell_type": "markdown",
   "metadata": {},
   "source": [
    "## Demanda\n",
    "\n",
    "1. Qual a data do imóvel mais antigo no portfólio?\n",
    "2. Quantos imóveis possuem o número máximo de andares?\n",
    "3. Criar uma classificação para o imóveis, separando-os em\n",
    "baixo e alto padrão, de acordo com preço.\n",
    "   * Acima de R$ 540.000 -> alto padrão\n",
    "   * Abaixo de R$ 540.000 -> baixo padrão\n",
    "\n",
    "4. Relatório ordenado pelo preço e contento as seguintes informações:\n",
    "    * id do imóvel;\n",
    "    * data que o imóvel ficou disponível para compra;\n",
    "    * o número de quartos;\n",
    "    * o tamanho total to terreno;\n",
    "    * o preço;\n",
    "    * a classificação do imóvel( alto e baixo padrão )\n",
    "\n",
    "5. Mapa indicando onde as casas estão localizadas geograficamento.\n",
    "\n",
    "6. Crie uma nova coluna chamada: “house_age” \n",
    "   1. Se o valor da coluna “date” for maior que 2014-01-01 => ‘new_house’\n",
    "   2. Se o valor da coluna “date” for menor que 2014-01-01 => ‘old_house'\n",
    "\n",
    "7. Crie uma nova coluna chamada: “dormitory_type”\n",
    "   1. Se o valor da coluna “bedrooms” for igual à 1 => ‘studio’\n",
    "   2. Se o valor da coluna “bedrooms” for igual a 2 =>  'apartament’\n",
    "   3. Se o valor da coluna “bedrooms” for maior que 2 => ‘house’\n",
    "\n",
    "8. Crie uma nova coluna chamada: “condition_type”\n",
    "   1. Se o valor da coluna “condition” for menor ou igual à 2 => ‘bad’;\n",
    "   2. Se o valor da coluna “condition” for igual à 3 ou 4 => 'regular';\n",
    "   3. Se o valor da coluna “condition” for igual à 5 => ‘good’\n",
    "\n",
    "9. Modifique o TIPO a Coluna “condition” para STRING\n",
    "\n",
    "10. Delete as colunas: “sqft_living15” e “sqft_lot15”\n",
    "\n",
    "11. Modifique o TIPO a Coluna “yr_build” para DATE\n",
    "\n",
    "12. Modifique o TIPO a Coluna “yr_renovated” para DATE\n",
    "\n",
    "13. Qual a data mais antiga de construção de um imóvel?\n",
    "\n",
    "14. Qual a data mais antiga de renovação de um imóvel?\n",
    "\n",
    "15. Quantos imóveis tem 2 andares?\n",
    "\n",
    "16. Quantos imóveis estão com a condição igual a “regular” ?\n",
    "\n",
    "17. Quantos imóveis estão com a condição igual a “bad”e possuem “vista para água” ?\n",
    "18. Quantos imóveis estão com a condição igual a “good” e são “new_house”?\n",
    "19. Qual o valor do imóvel mais caro do tipo “studio” ?\n",
    "20. Quantos imóveis do tipo “apartment” foram reformados em 2015 ?\n",
    "21. Qual o maior número de quartos que um imóveis do tipo “house”possui ?\n",
    "22. Quantos imóveis “new_house” foram reformados no ano de 2014?\n",
    "23. \n",
    "24. Selecione as colunas: “id”, “date”, “price”, “floors”, “zipcode” pelo método:\n",
    "    1. Direto pelo nome das colunas.\n",
    "    2. Pelos Índices.\n",
    "    3. Pelos Índices das linhas e o nome das colunas\n",
    "    4. Índices Booleanos\n",
    "25. Salve um arquivo .csv com somente as colunas do item 10 ao 17.\n",
    "26. Modifique a cor dos pontos no mapa de “pink” para “verde-escuro”\n",
    "\n"
   ]
  }
 ],
 "metadata": {
  "kernelspec": {
   "display_name": "Python 3.9.2 ('pylab-env': venv)",
   "language": "python",
   "name": "python3"
  },
  "language_info": {
   "codemirror_mode": {
    "name": "ipython",
    "version": 3
   },
   "file_extension": ".py",
   "mimetype": "text/x-python",
   "name": "python",
   "nbconvert_exporter": "python",
   "pygments_lexer": "ipython3",
   "version": "3.9.2 (default, Feb 28 2021, 17:03:44) \n[GCC 10.2.1 20210110]"
  },
  "orig_nbformat": 4,
  "vscode": {
   "interpreter": {
    "hash": "bba2146f8efe6fb834caf575ce15b2ba1d9d995a97ee4586b6df2560c421d970"
   }
  }
 },
 "nbformat": 4,
 "nbformat_minor": 2
}
